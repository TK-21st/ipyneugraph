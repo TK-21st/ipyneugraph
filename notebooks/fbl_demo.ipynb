{
 "cells": [
  {
   "cell_type": "markdown",
   "metadata": {},
   "source": [
    "# **IPyNeuGraph**: _Python_ + _Jupyter_ Interface to **Circuit + Simulation Data**\n",
    "<center>\n",
    "    <img src=\"figures/FBL_ecosystem.png\" width=800px>\n",
    "</center>\n",
    "\n"
   ]
  },
  {
   "cell_type": "code",
   "execution_count": 10,
   "metadata": {},
   "outputs": [
    {
     "name": "stdout",
     "output_type": "stream",
     "text": [
      "The autoreload extension is already loaded. To reload it, use:\n",
      "  %reload_ext autoreload\n"
     ]
    }
   ],
   "source": [
    "%load_ext autoreload\n",
    "%autoreload 2"
   ]
  },
  {
   "cell_type": "code",
   "execution_count": 2,
   "metadata": {},
   "outputs": [],
   "source": [
    "from ipyneugraph import NeuGraph\n",
    "import ipywidgets as widgets\n",
    "import networkx as nx"
   ]
  },
  {
   "cell_type": "code",
   "execution_count": 3,
   "metadata": {},
   "outputs": [],
   "source": [
    "ng = NeuGraph.from_gexf('../data/lon.gexf')\n",
    "ng.load_IO('../data/lon_input.h5', IO='input')\n",
    "ng.load_IO('../data/lon_output.h5', IO='output')"
   ]
  },
  {
   "cell_type": "code",
   "execution_count": 4,
   "metadata": {},
   "outputs": [
    {
     "data": {
      "application/vnd.jupyter.widget-view+json": {
       "model_id": "360532d2bd734fbd96c6b37827f110e3",
       "version_major": 2,
       "version_minor": 0
      },
      "text/plain": [
       "NeuGraph(graph_data={'nodes': [('nc-LaN-1-R', {'phi': 0.001, 'initn': 0.3525, 'g_Ca': 4.0, 'offset': 0.0, 'V_L…"
      ]
     },
     "metadata": {},
     "output_type": "display_data"
    }
   ],
   "source": [
    "ng"
   ]
  },
  {
   "cell_type": "code",
   "execution_count": 5,
   "metadata": {},
   "outputs": [],
   "source": [
    "ng.fire_callback(\"resizeNodes\",[\"outDegree\"])"
   ]
  },
  {
   "cell_type": "code",
   "execution_count": 8,
   "metadata": {},
   "outputs": [],
   "source": [
    "ng.fire_callback(\"colorNodes\",[\"class\", [\"yellow\", \"red\", \"black\"]])"
   ]
  },
  {
   "cell_type": "code",
   "execution_count": 17,
   "metadata": {},
   "outputs": [],
   "source": [
    "ng.fire_callback(\"colorNodes\",[\"class\", [\"red\", \"black\"]])"
   ]
  },
  {
   "cell_type": "code",
   "execution_count": 10,
   "metadata": {},
   "outputs": [],
   "source": [
    "ng.fire_callback(\"gridLayout\",[\"degree\", None, \"descend\"])"
   ]
  },
  {
   "cell_type": "code",
   "execution_count": 11,
   "metadata": {},
   "outputs": [],
   "source": [
    "ng.fire_callback(\"gridLayout\",[\"phi\", None, \"descend\"])"
   ]
  },
  {
   "cell_type": "code",
   "execution_count": 12,
   "metadata": {},
   "outputs": [],
   "source": [
    "ng.fire_callback(\"gridLayout\",[\"phi\", None, \"ascend\"])"
   ]
  },
  {
   "cell_type": "code",
   "execution_count": 13,
   "metadata": {},
   "outputs": [],
   "source": [
    "ng.fire_callback(\"resizeNodes\",[\"phi\"])"
   ]
  },
  {
   "cell_type": "code",
   "execution_count": 14,
   "metadata": {},
   "outputs": [],
   "source": [
    "ng.update_gexf('../data/mb_with_mod.gexf')"
   ]
  },
  {
   "cell_type": "code",
   "execution_count": 16,
   "metadata": {},
   "outputs": [],
   "source": [
    "ng.fire_callback(\"gridLayout\",[\"degree\", None, \"descend\"])"
   ]
  },
  {
   "cell_type": "code",
   "execution_count": 57,
   "metadata": {},
   "outputs": [
    {
     "data": {
      "image/png": "[encoded data removed]",
      "text/plain": [
       "<Figure size 432x288 with 2 Axes>"
      ]
     },
     "metadata": {
      "needs_background": "light"
     },
     "output_type": "display_data"
    }
   ],
   "source": [
    "import matplotlib.pyplot as plt\n",
    "import numpy as np\n",
    "dt = ng.file_o['metadata'].attrs['dt']\n",
    "Nt = ng.file_i['I/data'].shape[0]\n",
    "t = np.arange(0, dt*Nt, dt)\n",
    "uid = str(ng.file_i['I/uids'][0].astype(str))\n",
    "idx_i =  list(ng.file_i['I/uids'][()].astype(str)).index(uid)\n",
    "idx_o =  list(ng.file_o['V/uids'][()].astype(str)).index(uid)\n",
    "\n",
    "plt.subplot(211)\n",
    "plt.plot(t, ng.file_i['I/data'][:,idx_i], label=uid)\n",
    "plt.title('Input Current')\n",
    "plt.ylabel('I $[\\mu A]$')\n",
    "plt.legend()\n",
    "\n",
    "plt.subplot(212)\n",
    "plt.plot(t, ng.file_o['V/data'][:,idx_o], label=uid)\n",
    "plt.title('Output Voltage')\n",
    "plt.ylabel('V $[mV]$')\n",
    "plt.xlabel('Time [sec]')\n",
    "plt.legend()\n",
    "plt.tight_layout()"
   ]
  },
  {
   "cell_type": "code",
   "execution_count": null,
   "metadata": {},
   "outputs": [],
   "source": []
  }
 ],
 "metadata": {
  "kernelspec": {
   "display_name": "Python 3",
   "language": "python",
   "name": "python3"
  },
  "language_info": {
   "codemirror_mode": {
    "name": "ipython",
    "version": 3
   },
   "file_extension": ".py",
   "mimetype": "text/x-python",
   "name": "python",
   "nbconvert_exporter": "python",
   "pygments_lexer": "ipython3",
   "version": "3.6.8"
  }
 },
 "nbformat": 4,
 "nbformat_minor": 2
}
